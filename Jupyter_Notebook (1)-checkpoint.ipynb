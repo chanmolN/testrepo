{
 "cells": [
  {
   "cell_type": "markdown",
   "metadata": {},
   "source": [
    "<center>\n",
    "    <img src=\"https://cf-courses-data.s3.us.cloud-object-storage.appdomain.cloud/IBMDeveloperSkillsNetwork-DS0105EN-SkillsNetwork/labs/Module2/images/SN_web_lightmode.png\" width=\"300\" alt=\"cognitiveclass.ai logo\">\n",
    "</center>\n"
   ]
  },
  {
   "cell_type": "markdown",
   "metadata": {},
   "source": [
    "#### Add your code below following the instructions given in the course\n"
   ]
  },
  {
   "cell_type": "markdown",
   "metadata": {},
   "source": [
    "[click this link](https://www.youtube.com/watch?v=wZgwgY41n3M)"
   ]
  },
  {
   "cell_type": "markdown",
   "metadata": {},
   "source": [
    "# **DatascienceEcosystem**"
   ]
  },
  {
   "cell_type": "markdown",
   "metadata": {},
   "source": [
    "# Introduction \n",
    "This is my first time to become to data science, please guide me as you can! Thank you "
   ]
  },
  {
   "cell_type": "markdown",
   "metadata": {},
   "source": [
    "# Data science languges\n",
    "Python,\n",
    "R,\n",
    "SQL,\n",
    "Java,\n",
    "Julia,\n",
    "Scala,\n",
    "C/C++,\n",
    "JavaScript,\n",
    "Swift,\n",
    "Go,\n",
    "MATLAB,\n",
    "SAS,\n"
   ]
  },
  {
   "cell_type": "markdown",
   "metadata": {},
   "source": [
    "# Data science library \n",
    "Python library for data processing and model development, \n",
    "Padas, \n",
    "NumPy, \n",
    "SciPy,\n",
    "Sci-Kit Learn, \n",
    "Pycaret,\n",
    "Tensortflow,\n",
    "OpenCV\n",
    "\n"
   ]
  },
  {
   "cell_type": "markdown",
   "metadata": {},
   "source": [
    "# Table for data science tools \n",
    "| (No) | Data science tools | \n",
    "| ---- | -------------------|\n",
    "| 1    |          SAS       | \n",
    "| 2    |    Apache Spark    | \n",
    "| 3    |     BigML          | \n",
    "| 4    |      Tableau       | \n",
    "| 5    |    Jupyter         | \n",
    "| 6    |    Matplotlib      | \n",
    "| 7    |     D3             | \n",
    "| 8    |     NLTK           | \n",
    "| 9    |     Matlab         | \n",
    "| 10   |     Scikit-Learn   | \n"
   ]
  },
  {
   "cell_type": "markdown",
   "metadata": {},
   "source": [
    "# Introducing arithmetic expression example\n",
    "5 -- a number is an arithmetic expression.\n",
    "\n",
    "(3 + 4) -- the sum of numbers is an arithmetic expression.\n",
    "\n",
    "(7 - 3) -- the difference of two numbers is an arithmetic expression.\n",
    "\n",
    "(2 5), 2 5 -- a product of two numbers is an arithmetic expression."
   ]
  },
  {
   "cell_type": "code",
   "execution_count": 2,
   "metadata": {},
   "outputs": [
    {
     "name": "stdout",
     "output_type": "stream",
     "text": [
      "Aditional value of a and b is:  1.9073486328125e-06\n"
     ]
    }
   ],
   "source": [
    "a = 15 \n",
    "b = 4 \n",
    "C=1/2**(a+b)\n",
    "print( \"Aditional value of a and b is: \", C)"
   ]
  },
  {
   "cell_type": "code",
   "execution_count": 17,
   "metadata": {},
   "outputs": [
    {
     "name": "stdout",
     "output_type": "stream",
     "text": [
      "Input time in seconds: 4\n",
      "d:h:m:s-> 0:0:0:4\n"
     ]
    }
   ],
   "source": [
    "time = float(input(\"Input time in seconds: \"))\n",
    "day = time // (24 * 3600)\n",
    "time = time % (24 * 3600)\n",
    "hour = time // 3600\n",
    "time %= 3600\n",
    "minutes = time // 60\n",
    "time %= 60\n",
    "seconds = time\n",
    "print(\"d:h:m:s-> %d:%d:%d:%d\" % (day, hour, minutes, seconds))\n"
   ]
  },
  {
   "cell_type": "markdown",
   "metadata": {},
   "source": [
    "# Markdown cell to list object "
   ]
  },
  {
   "cell_type": "markdown",
   "metadata": {},
   "source": [
    "| No | Name of object | \n",
    "|----|----------------| \n",
    "| 1  | Object 1       | \n",
    "| 2  | Object 2       | \n",
    "| 3  | Object 2       | \n"
   ]
  },
  {
   "cell_type": "markdown",
   "metadata": {},
   "source": [
    "## Create a markdown cell to indicate the Author’s name\n",
    "1. Author's name 1 \n",
    "1. Author's name 2 \n",
    "    1. Sub-author's name 1 (the \"1.\" in the code become \"A\" in output) \n",
    "    1. Sub_author's name 2 \n",
    "    1. Sub-author's name 3 \n"
   ]
  },
  {
   "cell_type": "markdown",
   "metadata": {},
   "source": [
    "# Share  notebook through GitHub"
   ]
  },
  {
   "cell_type": "code",
   "execution_count": null,
   "metadata": {},
   "outputs": [],
   "source": []
  }
 ],
 "metadata": {
  "kernelspec": {
   "display_name": "Python 3 (ipykernel)",
   "language": "python",
   "name": "python3"
  },
  "language_info": {
   "codemirror_mode": {
    "name": "ipython",
    "version": 3
   },
   "file_extension": ".py",
   "mimetype": "text/x-python",
   "name": "python",
   "nbconvert_exporter": "python",
   "pygments_lexer": "ipython3",
   "version": "3.9.13"
  }
 },
 "nbformat": 4,
 "nbformat_minor": 4
}
